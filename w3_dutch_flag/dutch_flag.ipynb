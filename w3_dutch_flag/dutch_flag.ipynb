{
 "cells": [
  {
   "cell_type": "code",
   "execution_count": 1,
   "metadata": {
    "collapsed": true
   },
   "outputs": [],
   "source": [
    "import matplotlib.pyplot as plt\n",
    "import matplotlib.patches as patches\n",
    "import numpy as np\n",
    "import copy\n",
    "from collections import Counter\n",
    "from IPython.display import Image\n",
    "\n",
    "%matplotlib inline"
   ]
  },
  {
   "cell_type": "code",
   "execution_count": 2,
   "metadata": {
    "collapsed": true
   },
   "outputs": [],
   "source": [
    "def plot_flag(arr, save_to_file=False, name=None):\n",
    "    f,axarr = plt.subplots(1, figsize=(10, 5))\n",
    "    ax = axarr\n",
    "    height = 1\n",
    "    width = 2*height\n",
    "    x = 0\n",
    "    y = height*(len(arr)-1)\n",
    "    for el in arr:\n",
    "        ax.add_patch(patches.Rectangle((x, y), width, height, color=el))\n",
    "        y -= height\n",
    "    ax.set_ylim([x, len(arr)])\n",
    "    ax.set_xlim([x,width])\n",
    "    #ax.axis('off')\n",
    "    ax.xaxis.set_ticklabels([])\n",
    "    ax.yaxis.set_ticklabels([])\n",
    "    plt.tick_params(\n",
    "        axis='x',          # changes apply to the x-axis\n",
    "        which='both',      # both major and minor ticks are affected\n",
    "        bottom='off',      # ticks along the bottom edge are off\n",
    "        top='off',         # ticks along the top edge are off\n",
    "        labelbottom='off') # labels along the bottom edge are off\n",
    "    plt.tick_params(\n",
    "        axis='y',          # changes apply to the x-axis\n",
    "        which='both',      # both major and minor ticks are affected\n",
    "        left='off',      # ticks along the bottom edge are off\n",
    "        right='off',         # ticks along the top edge are off\n",
    "        labelbottom='off') # labels along the bottom edge are off\n",
    "    if save_to_file:\n",
    "        plt.savefig('flag_gif/{}.png'.format(str(name).zfill(5)), format='png')\n",
    "        plt.close(f)\n",
    "    else:\n",
    "        plt.show()"
   ]
  },
  {
   "cell_type": "code",
   "execution_count": 3,
   "metadata": {
    "collapsed": true
   },
   "outputs": [],
   "source": [
    "def flag_sort(arr):\n",
    "    arr_size = len(arr)\n",
    "    max_red = -1\n",
    "    min_blue = arr_size-1\n",
    "    n_color = 0\n",
    "    n_swap = 0\n",
    "    while min_blue >= 0 and arr[min_blue] == \"b\":\n",
    "        min_blue -= 1\n",
    "        n_color += 1\n",
    "    i = 0\n",
    "    #print i, n_color, arr\n",
    "    vals = [copy.deepcopy(arr)]\n",
    "    while i < arr_size:\n",
    "        if i > min_blue:\n",
    "            break\n",
    "        el = arr[i]\n",
    "        n_color += 1\n",
    "        if el == \"r\":\n",
    "            max_red += 1\n",
    "            arr[i], arr[max_red] = arr[max_red], arr[i]\n",
    "            n_swap += 1\n",
    "            i += 1\n",
    "        elif el == \"b\":\n",
    "            arr[i], arr[min_blue] = arr[min_blue], arr[i]\n",
    "            n_swap += 1\n",
    "            min_blue -= 1\n",
    "        else:\n",
    "            i += 1\n",
    "        vals.append(copy.deepcopy(arr))\n",
    "        #print i, n_color, arr\n",
    "    return n_color, n_swap, vals"
   ]
  },
  {
   "cell_type": "code",
   "execution_count": 4,
   "metadata": {
    "collapsed": true
   },
   "outputs": [],
   "source": [
    "arr_size = 100\n",
    "\n",
    "arr = np.random.choice(['r', 'w', 'b'], arr_size)\n",
    "#print arr"
   ]
  },
  {
   "cell_type": "code",
   "execution_count": 5,
   "metadata": {},
   "outputs": [
    {
     "name": "stdout",
     "output_type": "stream",
     "text": [
      "Counter({'w': 36, 'r': 32, 'b': 32})\n"
     ]
    }
   ],
   "source": [
    "counter = Counter(arr)\n",
    "print counter"
   ]
  },
  {
   "cell_type": "code",
   "execution_count": 6,
   "metadata": {},
   "outputs": [
    {
     "data": {
      "image/png": "[encoded data removed]",
      "text/plain": [
       "<matplotlib.figure.Figure at 0x7fae739bb5d0>"
      ]
     },
     "metadata": {},
     "output_type": "display_data"
    }
   ],
   "source": [
    "plot_flag(arr)"
   ]
  },
  {
   "cell_type": "code",
   "execution_count": 7,
   "metadata": {
    "collapsed": true
   },
   "outputs": [],
   "source": [
    "n_color, n_swap, vals = flag_sort(arr)"
   ]
  },
  {
   "cell_type": "code",
   "execution_count": 8,
   "metadata": {
    "collapsed": true
   },
   "outputs": [],
   "source": [
    "#print arr"
   ]
  },
  {
   "cell_type": "code",
   "execution_count": 9,
   "metadata": {},
   "outputs": [
    {
     "data": {
      "image/png": "[encoded data removed]",
      "text/plain": [
       "<matplotlib.figure.Figure at 0x7fae71893dd0>"
      ]
     },
     "metadata": {},
     "output_type": "display_data"
    }
   ],
   "source": [
    "plot_flag(arr)"
   ]
  },
  {
   "cell_type": "code",
   "execution_count": 10,
   "metadata": {
    "collapsed": true
   },
   "outputs": [],
   "source": [
    "#for i, val in enumerate(vals):\n",
    "#    print i,val"
   ]
  },
  {
   "cell_type": "code",
   "execution_count": 11,
   "metadata": {
    "collapsed": true
   },
   "outputs": [],
   "source": [
    "def test(n_random_arr=2000, arr_size=20):\n",
    "    custom_inputs = [['r', 'w', 'b'], ['w', 'r', 'b'], ['r', 'b', 'w'], ['w', 'b', 'r'],\n",
    "        ['b', 'r', 'w'], ['b', 'w', 'r']]\n",
    "    random_inputs = [np.random.choice(['r', 'w', 'b'], arr_size) for _ in range(n_random_arr)]\n",
    "    n_swaps = []\n",
    "    for arr in custom_inputs+random_inputs:\n",
    "        n_color, n_swap, _ = flag_sort(arr)\n",
    "        n_swaps.append(n_swap)\n",
    "        arr_snap = copy.deepcopy(arr)\n",
    "        flag_sort(arr)\n",
    "        if any([el_snap != el  for el_snap, el in zip(arr_snap, arr)]):\n",
    "            print \"Idempotence failed at {}\".format(i)\n",
    "        if not check(arr_snap):\n",
    "            print \"Sort failed at {}\".format(i)\n",
    "        if n_color != len(arr):\n",
    "            print \"n_color = {}, while len = {}\".format(n_color, len(arr))   \n",
    "    return n_swaps"
   ]
  },
  {
   "cell_type": "code",
   "execution_count": 12,
   "metadata": {
    "collapsed": true
   },
   "outputs": [],
   "source": [
    "def check(arr):\n",
    "    i = 0\n",
    "    while i<len(arr) and arr[i] == 'r':\n",
    "        i += 1\n",
    "    while i<len(arr) and arr[i] == 'w':\n",
    "        i += 1\n",
    "    while i<len(arr) and arr[i] == 'b':\n",
    "        i += 1\n",
    "    return i==len(arr)"
   ]
  },
  {
   "cell_type": "code",
   "execution_count": 13,
   "metadata": {
    "collapsed": true
   },
   "outputs": [],
   "source": [
    "n_swaps = test()"
   ]
  },
  {
   "cell_type": "code",
   "execution_count": 14,
   "metadata": {},
   "outputs": [
    {
     "name": "stdout",
     "output_type": "stream",
     "text": [
      "1031\n"
     ]
    }
   ],
   "source": [
    "l = [el for el in  n_swaps[10:] if el%2 ==0]\n",
    "print(len(l))"
   ]
  },
  {
   "cell_type": "code",
   "execution_count": 15,
   "metadata": {},
   "outputs": [
    {
     "data": {
      "text/plain": [
       "1"
      ]
     },
     "execution_count": 15,
     "metadata": {},
     "output_type": "execute_result"
    }
   ],
   "source": [
    "3%2"
   ]
  },
  {
   "cell_type": "code",
   "execution_count": 16,
   "metadata": {},
   "outputs": [
    {
     "data": {
      "image/png": "[encoded data removed]",
      "text/plain": [
       "<matplotlib.figure.Figure at 0x7fae739bbd50>"
      ]
     },
     "metadata": {},
     "output_type": "display_data"
    }
   ],
   "source": [
    "plt.hist(n_swaps, 10)\n",
    "plt.show()"
   ]
  },
  {
   "cell_type": "code",
   "execution_count": 17,
   "metadata": {},
   "outputs": [
    {
     "name": "stdout",
     "output_type": "stream",
     "text": [
      "rm: cannot remove 'flag_gif': No such file or directory\r\n"
     ]
    }
   ],
   "source": [
    "!rm -r flag_gif"
   ]
  },
  {
   "cell_type": "code",
   "execution_count": 18,
   "metadata": {
    "collapsed": true
   },
   "outputs": [],
   "source": [
    "!mkdir flag_gif"
   ]
  },
  {
   "cell_type": "code",
   "execution_count": 19,
   "metadata": {
    "collapsed": true
   },
   "outputs": [],
   "source": [
    "_ = [plot_flag(val, True, i) for i,val in enumerate(vals)]"
   ]
  },
  {
   "cell_type": "code",
   "execution_count": 20,
   "metadata": {
    "collapsed": true
   },
   "outputs": [],
   "source": [
    "!convert -delay 10 -loop 0 $(ls flag_gif/*.png | sort) flag.gif"
   ]
  },
  {
   "cell_type": "code",
   "execution_count": 22,
   "metadata": {
    "collapsed": true
   },
   "outputs": [],
   "source": [
    "!rm -r flag_gif"
   ]
  },
  {
   "cell_type": "code",
   "execution_count": 21,
   "metadata": {
    "scrolled": true
   },
   "outputs": [
    {
     "data": {
      "text/html": [
       "<img src=\"flag.gif\"/>"
      ],
      "text/plain": [
       "<IPython.core.display.Image object>"
      ]
     },
     "execution_count": 21,
     "metadata": {},
     "output_type": "execute_result"
    }
   ],
   "source": [
    "Image(url='flag.gif')"
   ]
  }
 ],
 "metadata": {
  "kernelspec": {
   "display_name": "Python 2",
   "language": "python2",
   "name": "python2"
  },
  "language_info": {
   "codemirror_mode": {
    "name": "ipython",
    "version": 2
   },
   "file_extension": ".py",
   "mimetype": "text/x-python",
   "name": "python",
   "nbconvert_exporter": "python",
   "pygments_lexer": "ipython2",
   "version": "2.7.12"
  }
 },
 "nbformat": 4,
 "nbformat_minor": 2
}
